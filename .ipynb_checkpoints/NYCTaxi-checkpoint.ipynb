{
  "cells": [
    {
      "cell_type": "raw",
      "metadata": {},
      "source": [
        "---\n",
        "title: \"NYCTaxi\"\n",
        "author: \"한승우(2018-21988)\"\n",
        "format: dashboard\n",
        "execute: \n",
        "  enabled: true\n",
        "  cache: false\n",
        "  freeze: false\n",
        "---"
      ],
      "id": "5d4d0249"
    },
    {
      "cell_type": "code",
      "metadata": {},
      "source": [
        "#| output: false\n",
        "# 여기에 온갖코드를 넣음.\n",
        "import numpy as np\n",
        "import pandas as pd\n",
        "import plotly.express as px\n",
        "import plotly.io as pio\n",
        "\n",
        "pd.options.plotting.backend = \"plotly\"\n",
        "pio.templates.default = \"plotly_white\"\n",
        "\n",
        "df = pd.read_csv(\"https://raw.githubusercontent.com/guebin/DV2023/main/posts/NYCTaxi.csv\").assign(\n",
        "    log_trip_duration = lambda df: np.log(df.trip_duration),\n",
        "    pickup_datetime = lambda df: df.pickup_datetime.apply(pd.to_datetime),\n",
        "    dropoff_datetime = lambda df: df.dropoff_datetime.apply(pd.to_datetime),\n",
        "    dist = lambda df: np.sqrt((df.pickup_latitude-df.dropoff_latitude)**2 + (df.pickup_longitude-df.dropoff_longitude)**2),\n",
        "    #---#\n",
        "    vendor_id = lambda df: df.vendor_id.map({1:'A',2:'B'})\n",
        ").assign(\n",
        "    speed = lambda df: df.dist / df.trip_duration,\n",
        "    pickup_hour = lambda df: df.pickup_datetime.dt.hour,\n",
        "    dropoff_hour = lambda df: df.dropoff_datetime.dt.hour,\n",
        "    dayofweek = lambda df: df.pickup_datetime.dt.dayofweek\n",
        ")\n",
        "df_small = df[::100].reset_index(drop=True)\n",
        "\n",
        "tidydata = df.pivot_table(\n",
        "    index='pickup_hour',\n",
        "    columns='dayofweek',\n",
        "    values='speed',\n",
        "    aggfunc='mean'\n",
        ").stack().reset_index().rename({0: 'speed_mean'}, axis=1)\n",
        "\n",
        "tidydata['dayofweek'] = tidydata['dayofweek'].map({0: '월', 1: '화', 2: '수', 3: '목', 4: '금', 5: '토', 6: '일'})\n",
        "\n",
        "tidydata2 = df.pivot_table(\n",
        "    index='pickup_hour',\n",
        "    columns='dayofweek',\n",
        "    values='dist',\n",
        "    aggfunc='mean'\n",
        ").stack().reset_index().rename({0: 'dist_mean'}, axis=1)\n",
        "\n",
        "tidydata2['dayofweek'] = tidydata2['dayofweek'].map({0: '월', 1: '화', 2: '수', 3: '목', 4: '금', 5: '토', 6: '일'})\n",
        "\n",
        "pcol = ['pickup_datetime', 'pickup_longitude', 'pickup_latitude', 'pickup_hour']\n",
        "dcol = ['dropoff_datetime', 'dropoff_longitude', 'dropoff_latitude', 'dropoff_hour']\n",
        "def transform(df):\n",
        "    pickup = df.loc[:,['id']+pcol].set_axis(['id', 'datetime', 'longitude', 'latitude', 'hour'],axis=1).assign(type = 'pickup')\n",
        "    dropoff = df.loc[:,['id']+dcol].set_axis(['id', 'datetime', 'longitude', 'latitude', 'hour'],axis=1).assign(type = 'dropoff')\n",
        "    return pd.concat([pickup,dropoff],axis=0)\n",
        "df_left = df_small.drop(pcol+dcol,axis=1)\n",
        "df_right = pd.concat([transform(df) for i, df in df_small.groupby('id')]).reset_index(drop=True)\n",
        "df_small = df_left.merge(df_right)\n",
        "\n",
        "\n",
        "tidydata3 = df_small.assign(\n",
        "    speed_cut = pd.qcut(df_small2.speed,4, labels=['매우 느림', '조금 느림', '조금 빠름', '매우 빠름'])\n",
        ").sort_values('speed_cut')\n",
        "\n",
        "\n",
        "# 1-(1),(2),(3) 에 대응하는 plotly figure를 아래와 같은 이름으로 저장\n",
        "# fig = px.density_heatmap(data_frame=tidydata,x='pickup_hour',y='dayofweek',z='speed_mean',nbinsx=24,nbinsy=7,height=400,)\n",
        "fig.update_layout(\n",
        "    xaxis_title='pickup 시간',\n",
        "    yaxis_title='요일',\n",
        "    coloraxis_colorbar_title = '평균속력'\n",
        ")\n",
        "\n",
        "# fig2 = px.density_heatmap(data_frame=tidydata2,x='pickup_hour',y='dayofweek',z='dist_mean',nbinsx=24,nbinsy=7,height=400)\n",
        "fig2.update_layout(\n",
        "    xaxis_title='pickup 시간',\n",
        "    yaxis_title='요일',\n",
        "    coloraxis_colorbar_title = '평균이동거리'\n",
        ")\n",
        "\n",
        "# fig3 = px.line_mapbox(data_frame=tidydata3,lat = 'latitude',lon = 'longitude',line_group ='id',color = 'speed_cut',center = {'lat':40.7322, 'lon':-73.9052},mapbox_style = 'carto-positron',zoom=11,)\n",
        "scatter_data = px.scatter_mapbox(\n",
        "    data_frame=tidydata3,\n",
        "    lat = 'latitude',\n",
        "    lon = 'longitude',\n",
        "    size = 'passenger_count',\n",
        "    size_max = 10,\n",
        "    color = 'speed_cut',\n",
        "    #---#\n",
        "    mapbox_style = 'carto-positron',\n",
        "    zoom=11,\n",
        ").data \n",
        "\n",
        "for i, trace in enumerate(fig3.data):\n",
        "    if trace.mode == 'lines':\n",
        "        trace.name = f'{trace.name} (path)'\n",
        "\n",
        "for sd in scatter_data:\n",
        "    sd.name = f'{sd.name} (pickup/dropoff)'\n",
        "    fig3.add_trace(sd)\n",
        "\n",
        "fig3.update_traces(line={'width':1}, opacity=0.8)\n",
        "fig3.update_layout(legend_title='평균속력')"
      ],
      "id": "6fe58849",
      "execution_count": null,
      "outputs": []
    },
    {
      "cell_type": "markdown",
      "metadata": {},
      "source": [
        "# 기말고사1-(1),(2)\n"
      ],
      "id": "c00d6a04"
    },
    {
      "cell_type": "code",
      "metadata": {
        "title": "요일,시간에 따른 평균속력 시각화"
      },
      "source": [
        "fig1.show()"
      ],
      "id": "1c1f56b2",
      "execution_count": null,
      "outputs": []
    },
    {
      "cell_type": "code",
      "metadata": {
        "title": "요일,시간에 따른 평균이동거리 시각화"
      },
      "source": [
        "fig2.show()"
      ],
      "id": "d34c2058",
      "execution_count": null,
      "outputs": []
    },
    {
      "cell_type": "markdown",
      "metadata": {},
      "source": [
        "# 기말고사1-(3)\n"
      ],
      "id": "6d1ea0cc"
    },
    {
      "cell_type": "code",
      "metadata": {
        "title": "속력별 경로 시각화"
      },
      "source": [
        "fig3.show()"
      ],
      "id": "fa0e385c",
      "execution_count": null,
      "outputs": []
    }
  ],
  "metadata": {
    "kernelspec": {
      "name": "python3",
      "language": "python",
      "display_name": "Python 3 (ipykernel)"
    }
  },
  "nbformat": 4,
  "nbformat_minor": 5
}